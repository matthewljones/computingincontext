{
 "cells": [
  {
   "cell_type": "code",
   "execution_count": 1,
   "metadata": {
    "collapsed": false
   },
   "outputs": [],
   "source": [
    "our_texts=[\"The cat sat on the mat\", \n",
    "           \"The cat saw the other cat on Sat while she sat\", \n",
    "           \"Excellent Smithers! Use the saw on the cat in the magic trick with the dog\",\n",
    "            \"Excellent magic saw Smithers on the dog\"]"
   ]
  },
  {
   "cell_type": "code",
   "execution_count": 2,
   "metadata": {
    "collapsed": false
   },
   "outputs": [],
   "source": [
    "from sklearn.feature_extraction.text import TfidfVectorizer\n",
    "vectorizer=TfidfVectorizer(min_df=0.1, stop_words='english', use_idf=True)\n",
    "document_term_matrix=vectorizer.fit_transform(our_texts)\n",
    "vocab=vectorizer.get_feature_names()"
   ]
  },
  {
   "cell_type": "code",
   "execution_count": 3,
   "metadata": {
    "collapsed": false
   },
   "outputs": [
    {
     "data": {
      "text/plain": [
       "['cat',\n",
       " 'dog',\n",
       " 'excellent',\n",
       " 'magic',\n",
       " 'mat',\n",
       " 'sat',\n",
       " 'saw',\n",
       " 'smithers',\n",
       " 'trick',\n",
       " 'use']"
      ]
     },
     "execution_count": 3,
     "metadata": {},
     "output_type": "execute_result"
    }
   ],
   "source": [
    "vocab"
   ]
  },
  {
   "cell_type": "code",
   "execution_count": 4,
   "metadata": {
    "collapsed": true
   },
   "outputs": [],
   "source": [
    "import pandas as pd"
   ]
  },
  {
   "cell_type": "code",
   "execution_count": 5,
   "metadata": {
    "collapsed": false
   },
   "outputs": [
    {
     "data": {
      "text/html": [
       "<div style=\"max-height:1000px;max-width:1500px;overflow:auto;\">\n",
       "<table border=\"1\" class=\"dataframe\">\n",
       "  <thead>\n",
       "    <tr style=\"text-align: right;\">\n",
       "      <th></th>\n",
       "      <th>cat</th>\n",
       "      <th>dog</th>\n",
       "      <th>excellent</th>\n",
       "      <th>magic</th>\n",
       "      <th>mat</th>\n",
       "      <th>sat</th>\n",
       "      <th>saw</th>\n",
       "      <th>smithers</th>\n",
       "      <th>trick</th>\n",
       "      <th>use</th>\n",
       "    </tr>\n",
       "  </thead>\n",
       "  <tbody>\n",
       "    <tr>\n",
       "      <th>0</th>\n",
       "      <td> 0.448100</td>\n",
       "      <td> 0.000000</td>\n",
       "      <td> 0.000000</td>\n",
       "      <td> 0.000000</td>\n",
       "      <td> 0.702035</td>\n",
       "      <td> 0.553492</td>\n",
       "      <td> 0.000000</td>\n",
       "      <td> 0.000000</td>\n",
       "      <td> 0.000000</td>\n",
       "      <td> 0.000000</td>\n",
       "    </tr>\n",
       "    <tr>\n",
       "      <th>1</th>\n",
       "      <td> 0.600223</td>\n",
       "      <td> 0.000000</td>\n",
       "      <td> 0.000000</td>\n",
       "      <td> 0.000000</td>\n",
       "      <td> 0.000000</td>\n",
       "      <td> 0.741395</td>\n",
       "      <td> 0.300111</td>\n",
       "      <td> 0.000000</td>\n",
       "      <td> 0.000000</td>\n",
       "      <td> 0.000000</td>\n",
       "    </tr>\n",
       "    <tr>\n",
       "      <th>2</th>\n",
       "      <td> 0.277223</td>\n",
       "      <td> 0.342426</td>\n",
       "      <td> 0.342426</td>\n",
       "      <td> 0.342426</td>\n",
       "      <td> 0.000000</td>\n",
       "      <td> 0.000000</td>\n",
       "      <td> 0.277223</td>\n",
       "      <td> 0.342426</td>\n",
       "      <td> 0.434323</td>\n",
       "      <td> 0.434323</td>\n",
       "    </tr>\n",
       "    <tr>\n",
       "      <th>3</th>\n",
       "      <td> 0.000000</td>\n",
       "      <td> 0.463468</td>\n",
       "      <td> 0.463468</td>\n",
       "      <td> 0.463468</td>\n",
       "      <td> 0.000000</td>\n",
       "      <td> 0.000000</td>\n",
       "      <td> 0.375218</td>\n",
       "      <td> 0.463468</td>\n",
       "      <td> 0.000000</td>\n",
       "      <td> 0.000000</td>\n",
       "    </tr>\n",
       "  </tbody>\n",
       "</table>\n",
       "</div>"
      ],
      "text/plain": [
       "        cat       dog  excellent     magic       mat       sat       saw  \\\n",
       "0  0.448100  0.000000   0.000000  0.000000  0.702035  0.553492  0.000000   \n",
       "1  0.600223  0.000000   0.000000  0.000000  0.000000  0.741395  0.300111   \n",
       "2  0.277223  0.342426   0.342426  0.342426  0.000000  0.000000  0.277223   \n",
       "3  0.000000  0.463468   0.463468  0.463468  0.000000  0.000000  0.375218   \n",
       "\n",
       "   smithers     trick       use  \n",
       "0  0.000000  0.000000  0.000000  \n",
       "1  0.000000  0.000000  0.000000  \n",
       "2  0.342426  0.434323  0.434323  \n",
       "3  0.463468  0.000000  0.000000  "
      ]
     },
     "execution_count": 5,
     "metadata": {},
     "output_type": "execute_result"
    }
   ],
   "source": [
    "pd.DataFrame(document_term_matrix.toarray(), columns=vocab)"
   ]
  },
  {
   "cell_type": "markdown",
   "metadata": {},
   "source": [
    "###Similarity among documents"
   ]
  },
  {
   "cell_type": "code",
   "execution_count": 6,
   "metadata": {
    "collapsed": true
   },
   "outputs": [],
   "source": [
    "from sklearn.metrics.pairwise import cosine_similarity"
   ]
  },
  {
   "cell_type": "code",
   "execution_count": 7,
   "metadata": {
    "collapsed": true
   },
   "outputs": [],
   "source": [
    "similarity=cosine_similarity(document_term_matrix)"
   ]
  },
  {
   "cell_type": "code",
   "execution_count": 8,
   "metadata": {
    "collapsed": false
   },
   "outputs": [
    {
     "data": {
      "text/html": [
       "<div style=\"max-height:1000px;max-width:1500px;overflow:auto;\">\n",
       "<table border=\"1\" class=\"dataframe\">\n",
       "  <thead>\n",
       "    <tr style=\"text-align: right;\">\n",
       "      <th></th>\n",
       "      <th>0</th>\n",
       "      <th>1</th>\n",
       "      <th>2</th>\n",
       "      <th>3</th>\n",
       "    </tr>\n",
       "  </thead>\n",
       "  <tbody>\n",
       "    <tr>\n",
       "      <th>0</th>\n",
       "      <td> 1.000000</td>\n",
       "      <td> 0.679316</td>\n",
       "      <td> 0.124224</td>\n",
       "      <td> 0.000000</td>\n",
       "    </tr>\n",
       "    <tr>\n",
       "      <th>1</th>\n",
       "      <td> 0.679316</td>\n",
       "      <td> 1.000000</td>\n",
       "      <td> 0.249593</td>\n",
       "      <td> 0.112607</td>\n",
       "    </tr>\n",
       "    <tr>\n",
       "      <th>2</th>\n",
       "      <td> 0.124224</td>\n",
       "      <td> 0.249593</td>\n",
       "      <td> 1.000000</td>\n",
       "      <td> 0.738833</td>\n",
       "    </tr>\n",
       "    <tr>\n",
       "      <th>3</th>\n",
       "      <td> 0.000000</td>\n",
       "      <td> 0.112607</td>\n",
       "      <td> 0.738833</td>\n",
       "      <td> 1.000000</td>\n",
       "    </tr>\n",
       "  </tbody>\n",
       "</table>\n",
       "</div>"
      ],
      "text/plain": [
       "          0         1         2         3\n",
       "0  1.000000  0.679316  0.124224  0.000000\n",
       "1  0.679316  1.000000  0.249593  0.112607\n",
       "2  0.124224  0.249593  1.000000  0.738833\n",
       "3  0.000000  0.112607  0.738833  1.000000"
      ]
     },
     "execution_count": 8,
     "metadata": {},
     "output_type": "execute_result"
    }
   ],
   "source": [
    "pd.DataFrame(similarity)"
   ]
  },
  {
   "cell_type": "markdown",
   "metadata": {},
   "source": [
    "What if want to understand which words are more similar *in this context*?\n",
    "#Similarity among words"
   ]
  },
  {
   "cell_type": "code",
   "execution_count": 9,
   "metadata": {
    "collapsed": true
   },
   "outputs": [],
   "source": [
    "similarity=cosine_similarity(document_term_matrix.T)"
   ]
  },
  {
   "cell_type": "code",
   "execution_count": 10,
   "metadata": {
    "collapsed": false
   },
   "outputs": [
    {
     "data": {
      "text/html": [
       "<div style=\"max-height:1000px;max-width:1500px;overflow:auto;\">\n",
       "<table border=\"1\" class=\"dataframe\">\n",
       "  <thead>\n",
       "    <tr style=\"text-align: right;\">\n",
       "      <th></th>\n",
       "      <th>cat</th>\n",
       "      <th>dog</th>\n",
       "      <th>excellent</th>\n",
       "      <th>magic</th>\n",
       "      <th>mat</th>\n",
       "      <th>sat</th>\n",
       "      <th>saw</th>\n",
       "      <th>smithers</th>\n",
       "      <th>trick</th>\n",
       "      <th>use</th>\n",
       "    </tr>\n",
       "  </thead>\n",
       "  <tbody>\n",
       "    <tr>\n",
       "      <th>cat</th>\n",
       "      <td> 1.000000</td>\n",
       "      <td> 0.206256</td>\n",
       "      <td> 0.206256</td>\n",
       "      <td> 0.206256</td>\n",
       "      <td> 0.561040</td>\n",
       "      <td> 0.937830</td>\n",
       "      <td> 0.580043</td>\n",
       "      <td> 0.206256</td>\n",
       "      <td> 0.347095</td>\n",
       "      <td> 0.347095</td>\n",
       "    </tr>\n",
       "    <tr>\n",
       "      <th>dog</th>\n",
       "      <td> 0.206256</td>\n",
       "      <td> 1.000000</td>\n",
       "      <td> 1.000000</td>\n",
       "      <td> 1.000000</td>\n",
       "      <td> 0.000000</td>\n",
       "      <td> 0.000000</td>\n",
       "      <td> 0.841010</td>\n",
       "      <td> 1.000000</td>\n",
       "      <td> 0.594236</td>\n",
       "      <td> 0.594236</td>\n",
       "    </tr>\n",
       "    <tr>\n",
       "      <th>excellent</th>\n",
       "      <td> 0.206256</td>\n",
       "      <td> 1.000000</td>\n",
       "      <td> 1.000000</td>\n",
       "      <td> 1.000000</td>\n",
       "      <td> 0.000000</td>\n",
       "      <td> 0.000000</td>\n",
       "      <td> 0.841010</td>\n",
       "      <td> 1.000000</td>\n",
       "      <td> 0.594236</td>\n",
       "      <td> 0.594236</td>\n",
       "    </tr>\n",
       "    <tr>\n",
       "      <th>magic</th>\n",
       "      <td> 0.206256</td>\n",
       "      <td> 1.000000</td>\n",
       "      <td> 1.000000</td>\n",
       "      <td> 1.000000</td>\n",
       "      <td> 0.000000</td>\n",
       "      <td> 0.000000</td>\n",
       "      <td> 0.841010</td>\n",
       "      <td> 1.000000</td>\n",
       "      <td> 0.594236</td>\n",
       "      <td> 0.594236</td>\n",
       "    </tr>\n",
       "    <tr>\n",
       "      <th>mat</th>\n",
       "      <td> 0.561040</td>\n",
       "      <td> 0.000000</td>\n",
       "      <td> 0.000000</td>\n",
       "      <td> 0.000000</td>\n",
       "      <td> 1.000000</td>\n",
       "      <td> 0.598232</td>\n",
       "      <td> 0.000000</td>\n",
       "      <td> 0.000000</td>\n",
       "      <td> 0.000000</td>\n",
       "      <td> 0.000000</td>\n",
       "    </tr>\n",
       "    <tr>\n",
       "      <th>sat</th>\n",
       "      <td> 0.937830</td>\n",
       "      <td> 0.000000</td>\n",
       "      <td> 0.000000</td>\n",
       "      <td> 0.000000</td>\n",
       "      <td> 0.598232</td>\n",
       "      <td> 1.000000</td>\n",
       "      <td> 0.433532</td>\n",
       "      <td> 0.000000</td>\n",
       "      <td> 0.000000</td>\n",
       "      <td> 0.000000</td>\n",
       "    </tr>\n",
       "    <tr>\n",
       "      <th>saw</th>\n",
       "      <td> 0.580043</td>\n",
       "      <td> 0.841010</td>\n",
       "      <td> 0.841010</td>\n",
       "      <td> 0.841010</td>\n",
       "      <td> 0.000000</td>\n",
       "      <td> 0.433532</td>\n",
       "      <td> 1.000000</td>\n",
       "      <td> 0.841010</td>\n",
       "      <td> 0.499758</td>\n",
       "      <td> 0.499758</td>\n",
       "    </tr>\n",
       "    <tr>\n",
       "      <th>smithers</th>\n",
       "      <td> 0.206256</td>\n",
       "      <td> 1.000000</td>\n",
       "      <td> 1.000000</td>\n",
       "      <td> 1.000000</td>\n",
       "      <td> 0.000000</td>\n",
       "      <td> 0.000000</td>\n",
       "      <td> 0.841010</td>\n",
       "      <td> 1.000000</td>\n",
       "      <td> 0.594236</td>\n",
       "      <td> 0.594236</td>\n",
       "    </tr>\n",
       "    <tr>\n",
       "      <th>trick</th>\n",
       "      <td> 0.347095</td>\n",
       "      <td> 0.594236</td>\n",
       "      <td> 0.594236</td>\n",
       "      <td> 0.594236</td>\n",
       "      <td> 0.000000</td>\n",
       "      <td> 0.000000</td>\n",
       "      <td> 0.499758</td>\n",
       "      <td> 0.594236</td>\n",
       "      <td> 1.000000</td>\n",
       "      <td> 1.000000</td>\n",
       "    </tr>\n",
       "    <tr>\n",
       "      <th>use</th>\n",
       "      <td> 0.347095</td>\n",
       "      <td> 0.594236</td>\n",
       "      <td> 0.594236</td>\n",
       "      <td> 0.594236</td>\n",
       "      <td> 0.000000</td>\n",
       "      <td> 0.000000</td>\n",
       "      <td> 0.499758</td>\n",
       "      <td> 0.594236</td>\n",
       "      <td> 1.000000</td>\n",
       "      <td> 1.000000</td>\n",
       "    </tr>\n",
       "  </tbody>\n",
       "</table>\n",
       "</div>"
      ],
      "text/plain": [
       "                cat       dog  excellent     magic       mat       sat  \\\n",
       "cat        1.000000  0.206256   0.206256  0.206256  0.561040  0.937830   \n",
       "dog        0.206256  1.000000   1.000000  1.000000  0.000000  0.000000   \n",
       "excellent  0.206256  1.000000   1.000000  1.000000  0.000000  0.000000   \n",
       "magic      0.206256  1.000000   1.000000  1.000000  0.000000  0.000000   \n",
       "mat        0.561040  0.000000   0.000000  0.000000  1.000000  0.598232   \n",
       "sat        0.937830  0.000000   0.000000  0.000000  0.598232  1.000000   \n",
       "saw        0.580043  0.841010   0.841010  0.841010  0.000000  0.433532   \n",
       "smithers   0.206256  1.000000   1.000000  1.000000  0.000000  0.000000   \n",
       "trick      0.347095  0.594236   0.594236  0.594236  0.000000  0.000000   \n",
       "use        0.347095  0.594236   0.594236  0.594236  0.000000  0.000000   \n",
       "\n",
       "                saw  smithers     trick       use  \n",
       "cat        0.580043  0.206256  0.347095  0.347095  \n",
       "dog        0.841010  1.000000  0.594236  0.594236  \n",
       "excellent  0.841010  1.000000  0.594236  0.594236  \n",
       "magic      0.841010  1.000000  0.594236  0.594236  \n",
       "mat        0.000000  0.000000  0.000000  0.000000  \n",
       "sat        0.433532  0.000000  0.000000  0.000000  \n",
       "saw        1.000000  0.841010  0.499758  0.499758  \n",
       "smithers   0.841010  1.000000  0.594236  0.594236  \n",
       "trick      0.499758  0.594236  1.000000  1.000000  \n",
       "use        0.499758  0.594236  1.000000  1.000000  "
      ]
     },
     "execution_count": 10,
     "metadata": {},
     "output_type": "execute_result"
    }
   ],
   "source": [
    "pd.DataFrame(similarity, index=vocab, columns=vocab)"
   ]
  },
  {
   "cell_type": "code",
   "execution_count": null,
   "metadata": {
    "collapsed": true
   },
   "outputs": [],
   "source": []
  }
 ],
 "metadata": {
  "kernelspec": {
   "display_name": "Python 3",
   "language": "python",
   "name": "python3"
  },
  "language_info": {
   "codemirror_mode": {
    "name": "ipython",
    "version": 3
   },
   "file_extension": ".py",
   "mimetype": "text/x-python",
   "name": "python",
   "nbconvert_exporter": "python",
   "pygments_lexer": "ipython3",
   "version": "3.3.5"
  }
 },
 "nbformat": 4,
 "nbformat_minor": 0
}
